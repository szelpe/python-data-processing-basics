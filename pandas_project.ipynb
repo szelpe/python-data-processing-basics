{
 "cells": [
  {
   "cell_type": "code",
   "execution_count": 3,
   "id": "initial_id",
   "metadata": {
    "collapsed": true,
    "ExecuteTime": {
     "end_time": "2024-02-15T09:45:41.021302200Z",
     "start_time": "2024-02-15T09:45:38.259077200Z"
    }
   },
   "outputs": [
    {
     "data": {
      "text/plain": "           status  card_present_flag  bpay_biller_code      account_id  \\\n0          posted                NaN               NaN  ACC-2259139624   \n1          posted                0.0               NaN  ACC-2988263882   \n2          posted                1.0               NaN  ACC-3233697971   \n3      authorized                NaN               NaN  ACC-2615038700   \n4          posted                NaN               NaN  ACC-1890605467   \n...           ...                ...               ...             ...   \n11995  authorized                NaN               NaN  ACC-2650850707   \n11996      posted                NaN               NaN  ACC-1516130869   \n11997  authorized                1.0               NaN  ACC-2674800293   \n11998      posted                1.0               NaN  ACC-2650850707   \n11999  authorized                0.0               NaN  ACC-2305712452   \n\n      currency txn_description                           merchant_id  \\\n0          EUR         PAYMENT  9509caa2-87ca-4231-a299-988beb17cb42   \n1          EUR      INTER BANK  c9da73d1-9d5e-4617-84c0-745f303de973   \n2          EUR      PHONE BANK  cb979da4-882c-4a98-a0eb-8c219a7a86ed   \n3          EUR      PHONE BANK  f19f2a55-5bc6-4f5b-9c7a-48cdd07f6a44   \n4          EUR      INTER BANK  617a670e-a706-400a-bbfa-09858d56a871   \n...        ...             ...                                   ...   \n11995      EUR             POS  b2064789-cb26-4828-8874-20cf146cba01   \n11996      EUR      PAY/SALARY  bc513677-92d4-4ed4-b8d1-9a35a806e335   \n11997      EUR             POS  080f11a9-7d38-40d1-84dc-b32f05742c52   \n11998      EUR      INTER BANK  d0e302c4-e0c6-40ff-8038-62ec4ecf97ae   \n11999      EUR             POS  8422eb4b-b489-458c-b07f-7e6561ebf63c   \n\n                       name             city         country         date  \\\n0               Derek Mejia       Lake Keith        Djibouti  31/Dec/2022   \n1              Bryan Bryant       Mendezbury           Korea  05/Oct/2020   \n2             Traci Jackson     Lake Richard         Morocco  11/Sep/2022   \n3         William Armstrong     Lawrenceside        Mongolia  08/Jun/2020   \n4              Edward Owens     Stantonmouth           Korea  28/Feb/2022   \n...                     ...              ...             ...          ...   \n11995        Anthony Howell     Gregorymouth      Azerbaijan  15/Aug/2022   \n11996        Michael Porter   West Markhaven  United Kingdom  17/Feb/2023   \n11997  Mr. Mark Bennett DDS   South Kimberly         Moldova  16/Jul/2022   \n11998          Wayne Barker    North Tabitha          Zambia  20/Feb/2020   \n11999           Andrea Wall  West Brandyfort       Hong Kong  10/Dec/2022   \n\n         amount                    transaction_id     customer_id movement  \n0      3,732.34  e876e07ea2f145a6814d4f0dcbd6c14a  CUS-3129499595    debit  \n1        586.36  591d3024ad564da5be4e3cc4e0f936e3  CUS-2031327464   credit  \n2      1,072.71  685c2bf55e064db4b575a833004178b6  CUS-2505971401    debit  \n3        609.20  c6664aa2e133417faa600a8563dce54c  CUS-1842679196    debit  \n4      1,639.45  664502f2f0004827bc2adc1908ea5485  CUS-2688605418   credit  \n...         ...                               ...             ...      ...  \n11995  1,462.14  f2e9d3df110a42b18e4e7154e271bd57   CUS-443776336   credit  \n11996  4,705.07  104d6044ac47496ba4d7f93885af9156   CUS-537508723   credit  \n11997  4,382.18  1e671a8d719f4141a9e3d385cd01ee43  CUS-4123612273    debit  \n11998  4,214.47  6021e5edaba5456db63a92717e4cacd6  CUS-2819545904    debit  \n11999    895.13  384505fe8a3a495595006f189bd72719  CUS-1388323263    debit  \n\n[12000 rows x 15 columns]",
      "text/html": "<div>\n<style scoped>\n    .dataframe tbody tr th:only-of-type {\n        vertical-align: middle;\n    }\n\n    .dataframe tbody tr th {\n        vertical-align: top;\n    }\n\n    .dataframe thead th {\n        text-align: right;\n    }\n</style>\n<table border=\"1\" class=\"dataframe\">\n  <thead>\n    <tr style=\"text-align: right;\">\n      <th></th>\n      <th>status</th>\n      <th>card_present_flag</th>\n      <th>bpay_biller_code</th>\n      <th>account_id</th>\n      <th>currency</th>\n      <th>txn_description</th>\n      <th>merchant_id</th>\n      <th>name</th>\n      <th>city</th>\n      <th>country</th>\n      <th>date</th>\n      <th>amount</th>\n      <th>transaction_id</th>\n      <th>customer_id</th>\n      <th>movement</th>\n    </tr>\n  </thead>\n  <tbody>\n    <tr>\n      <th>0</th>\n      <td>posted</td>\n      <td>NaN</td>\n      <td>NaN</td>\n      <td>ACC-2259139624</td>\n      <td>EUR</td>\n      <td>PAYMENT</td>\n      <td>9509caa2-87ca-4231-a299-988beb17cb42</td>\n      <td>Derek Mejia</td>\n      <td>Lake Keith</td>\n      <td>Djibouti</td>\n      <td>31/Dec/2022</td>\n      <td>3,732.34</td>\n      <td>e876e07ea2f145a6814d4f0dcbd6c14a</td>\n      <td>CUS-3129499595</td>\n      <td>debit</td>\n    </tr>\n    <tr>\n      <th>1</th>\n      <td>posted</td>\n      <td>0.0</td>\n      <td>NaN</td>\n      <td>ACC-2988263882</td>\n      <td>EUR</td>\n      <td>INTER BANK</td>\n      <td>c9da73d1-9d5e-4617-84c0-745f303de973</td>\n      <td>Bryan Bryant</td>\n      <td>Mendezbury</td>\n      <td>Korea</td>\n      <td>05/Oct/2020</td>\n      <td>586.36</td>\n      <td>591d3024ad564da5be4e3cc4e0f936e3</td>\n      <td>CUS-2031327464</td>\n      <td>credit</td>\n    </tr>\n    <tr>\n      <th>2</th>\n      <td>posted</td>\n      <td>1.0</td>\n      <td>NaN</td>\n      <td>ACC-3233697971</td>\n      <td>EUR</td>\n      <td>PHONE BANK</td>\n      <td>cb979da4-882c-4a98-a0eb-8c219a7a86ed</td>\n      <td>Traci Jackson</td>\n      <td>Lake Richard</td>\n      <td>Morocco</td>\n      <td>11/Sep/2022</td>\n      <td>1,072.71</td>\n      <td>685c2bf55e064db4b575a833004178b6</td>\n      <td>CUS-2505971401</td>\n      <td>debit</td>\n    </tr>\n    <tr>\n      <th>3</th>\n      <td>authorized</td>\n      <td>NaN</td>\n      <td>NaN</td>\n      <td>ACC-2615038700</td>\n      <td>EUR</td>\n      <td>PHONE BANK</td>\n      <td>f19f2a55-5bc6-4f5b-9c7a-48cdd07f6a44</td>\n      <td>William Armstrong</td>\n      <td>Lawrenceside</td>\n      <td>Mongolia</td>\n      <td>08/Jun/2020</td>\n      <td>609.20</td>\n      <td>c6664aa2e133417faa600a8563dce54c</td>\n      <td>CUS-1842679196</td>\n      <td>debit</td>\n    </tr>\n    <tr>\n      <th>4</th>\n      <td>posted</td>\n      <td>NaN</td>\n      <td>NaN</td>\n      <td>ACC-1890605467</td>\n      <td>EUR</td>\n      <td>INTER BANK</td>\n      <td>617a670e-a706-400a-bbfa-09858d56a871</td>\n      <td>Edward Owens</td>\n      <td>Stantonmouth</td>\n      <td>Korea</td>\n      <td>28/Feb/2022</td>\n      <td>1,639.45</td>\n      <td>664502f2f0004827bc2adc1908ea5485</td>\n      <td>CUS-2688605418</td>\n      <td>credit</td>\n    </tr>\n    <tr>\n      <th>...</th>\n      <td>...</td>\n      <td>...</td>\n      <td>...</td>\n      <td>...</td>\n      <td>...</td>\n      <td>...</td>\n      <td>...</td>\n      <td>...</td>\n      <td>...</td>\n      <td>...</td>\n      <td>...</td>\n      <td>...</td>\n      <td>...</td>\n      <td>...</td>\n      <td>...</td>\n    </tr>\n    <tr>\n      <th>11995</th>\n      <td>authorized</td>\n      <td>NaN</td>\n      <td>NaN</td>\n      <td>ACC-2650850707</td>\n      <td>EUR</td>\n      <td>POS</td>\n      <td>b2064789-cb26-4828-8874-20cf146cba01</td>\n      <td>Anthony Howell</td>\n      <td>Gregorymouth</td>\n      <td>Azerbaijan</td>\n      <td>15/Aug/2022</td>\n      <td>1,462.14</td>\n      <td>f2e9d3df110a42b18e4e7154e271bd57</td>\n      <td>CUS-443776336</td>\n      <td>credit</td>\n    </tr>\n    <tr>\n      <th>11996</th>\n      <td>posted</td>\n      <td>NaN</td>\n      <td>NaN</td>\n      <td>ACC-1516130869</td>\n      <td>EUR</td>\n      <td>PAY/SALARY</td>\n      <td>bc513677-92d4-4ed4-b8d1-9a35a806e335</td>\n      <td>Michael Porter</td>\n      <td>West Markhaven</td>\n      <td>United Kingdom</td>\n      <td>17/Feb/2023</td>\n      <td>4,705.07</td>\n      <td>104d6044ac47496ba4d7f93885af9156</td>\n      <td>CUS-537508723</td>\n      <td>credit</td>\n    </tr>\n    <tr>\n      <th>11997</th>\n      <td>authorized</td>\n      <td>1.0</td>\n      <td>NaN</td>\n      <td>ACC-2674800293</td>\n      <td>EUR</td>\n      <td>POS</td>\n      <td>080f11a9-7d38-40d1-84dc-b32f05742c52</td>\n      <td>Mr. Mark Bennett DDS</td>\n      <td>South Kimberly</td>\n      <td>Moldova</td>\n      <td>16/Jul/2022</td>\n      <td>4,382.18</td>\n      <td>1e671a8d719f4141a9e3d385cd01ee43</td>\n      <td>CUS-4123612273</td>\n      <td>debit</td>\n    </tr>\n    <tr>\n      <th>11998</th>\n      <td>posted</td>\n      <td>1.0</td>\n      <td>NaN</td>\n      <td>ACC-2650850707</td>\n      <td>EUR</td>\n      <td>INTER BANK</td>\n      <td>d0e302c4-e0c6-40ff-8038-62ec4ecf97ae</td>\n      <td>Wayne Barker</td>\n      <td>North Tabitha</td>\n      <td>Zambia</td>\n      <td>20/Feb/2020</td>\n      <td>4,214.47</td>\n      <td>6021e5edaba5456db63a92717e4cacd6</td>\n      <td>CUS-2819545904</td>\n      <td>debit</td>\n    </tr>\n    <tr>\n      <th>11999</th>\n      <td>authorized</td>\n      <td>0.0</td>\n      <td>NaN</td>\n      <td>ACC-2305712452</td>\n      <td>EUR</td>\n      <td>POS</td>\n      <td>8422eb4b-b489-458c-b07f-7e6561ebf63c</td>\n      <td>Andrea Wall</td>\n      <td>West Brandyfort</td>\n      <td>Hong Kong</td>\n      <td>10/Dec/2022</td>\n      <td>895.13</td>\n      <td>384505fe8a3a495595006f189bd72719</td>\n      <td>CUS-1388323263</td>\n      <td>debit</td>\n    </tr>\n  </tbody>\n</table>\n<p>12000 rows × 15 columns</p>\n</div>"
     },
     "execution_count": 3,
     "metadata": {},
     "output_type": "execute_result"
    }
   ],
   "source": [
    "import pandas as pd\n",
    "\n",
    "df = pd.read_excel('transactions.xlsx', sheet_name='Sheet1')\n",
    "\n",
    "df"
   ]
  },
  {
   "cell_type": "code",
   "outputs": [
    {
     "data": {
      "text/plain": "           status  card_present_flag  bpay_biller_code      account_id  \\\n0          posted                NaN               NaN  ACC-2259139624   \n1          posted                0.0               NaN  ACC-2988263882   \n2          posted                1.0               NaN  ACC-3233697971   \n3      authorized                NaN               NaN  ACC-2615038700   \n4          posted                NaN               NaN  ACC-1890605467   \n...           ...                ...               ...             ...   \n11995  authorized                NaN               NaN  ACC-2650850707   \n11996      posted                NaN               NaN  ACC-1516130869   \n11997  authorized                1.0               NaN  ACC-2674800293   \n11998      posted                1.0               NaN  ACC-2650850707   \n11999  authorized                0.0               NaN  ACC-2305712452   \n\n      currency txn_description                           merchant_id  \\\n0          EUR         PAYMENT  9509caa2-87ca-4231-a299-988beb17cb42   \n1          EUR      INTER BANK  c9da73d1-9d5e-4617-84c0-745f303de973   \n2          EUR      PHONE BANK  cb979da4-882c-4a98-a0eb-8c219a7a86ed   \n3          EUR      PHONE BANK  f19f2a55-5bc6-4f5b-9c7a-48cdd07f6a44   \n4          EUR      INTER BANK  617a670e-a706-400a-bbfa-09858d56a871   \n...        ...             ...                                   ...   \n11995      EUR             POS  b2064789-cb26-4828-8874-20cf146cba01   \n11996      EUR      PAY/SALARY  bc513677-92d4-4ed4-b8d1-9a35a806e335   \n11997      EUR             POS  080f11a9-7d38-40d1-84dc-b32f05742c52   \n11998      EUR      INTER BANK  d0e302c4-e0c6-40ff-8038-62ec4ecf97ae   \n11999      EUR             POS  8422eb4b-b489-458c-b07f-7e6561ebf63c   \n\n                       name             city         country       date  \\\n0               Derek Mejia       Lake Keith        Djibouti 2022-12-31   \n1              Bryan Bryant       Mendezbury           Korea 2020-10-05   \n2             Traci Jackson     Lake Richard         Morocco 2022-09-11   \n3         William Armstrong     Lawrenceside        Mongolia 2020-06-08   \n4              Edward Owens     Stantonmouth           Korea 2022-02-28   \n...                     ...              ...             ...        ...   \n11995        Anthony Howell     Gregorymouth      Azerbaijan 2022-08-15   \n11996        Michael Porter   West Markhaven  United Kingdom 2023-02-17   \n11997  Mr. Mark Bennett DDS   South Kimberly         Moldova 2022-07-16   \n11998          Wayne Barker    North Tabitha          Zambia 2020-02-20   \n11999           Andrea Wall  West Brandyfort       Hong Kong 2022-12-10   \n\n         amount                    transaction_id     customer_id movement  \n0      3,732.34  e876e07ea2f145a6814d4f0dcbd6c14a  CUS-3129499595    debit  \n1        586.36  591d3024ad564da5be4e3cc4e0f936e3  CUS-2031327464   credit  \n2      1,072.71  685c2bf55e064db4b575a833004178b6  CUS-2505971401    debit  \n3        609.20  c6664aa2e133417faa600a8563dce54c  CUS-1842679196    debit  \n4      1,639.45  664502f2f0004827bc2adc1908ea5485  CUS-2688605418   credit  \n...         ...                               ...             ...      ...  \n11995  1,462.14  f2e9d3df110a42b18e4e7154e271bd57   CUS-443776336   credit  \n11996  4,705.07  104d6044ac47496ba4d7f93885af9156   CUS-537508723   credit  \n11997  4,382.18  1e671a8d719f4141a9e3d385cd01ee43  CUS-4123612273    debit  \n11998  4,214.47  6021e5edaba5456db63a92717e4cacd6  CUS-2819545904    debit  \n11999    895.13  384505fe8a3a495595006f189bd72719  CUS-1388323263    debit  \n\n[12000 rows x 15 columns]",
      "text/html": "<div>\n<style scoped>\n    .dataframe tbody tr th:only-of-type {\n        vertical-align: middle;\n    }\n\n    .dataframe tbody tr th {\n        vertical-align: top;\n    }\n\n    .dataframe thead th {\n        text-align: right;\n    }\n</style>\n<table border=\"1\" class=\"dataframe\">\n  <thead>\n    <tr style=\"text-align: right;\">\n      <th></th>\n      <th>status</th>\n      <th>card_present_flag</th>\n      <th>bpay_biller_code</th>\n      <th>account_id</th>\n      <th>currency</th>\n      <th>txn_description</th>\n      <th>merchant_id</th>\n      <th>name</th>\n      <th>city</th>\n      <th>country</th>\n      <th>date</th>\n      <th>amount</th>\n      <th>transaction_id</th>\n      <th>customer_id</th>\n      <th>movement</th>\n    </tr>\n  </thead>\n  <tbody>\n    <tr>\n      <th>0</th>\n      <td>posted</td>\n      <td>NaN</td>\n      <td>NaN</td>\n      <td>ACC-2259139624</td>\n      <td>EUR</td>\n      <td>PAYMENT</td>\n      <td>9509caa2-87ca-4231-a299-988beb17cb42</td>\n      <td>Derek Mejia</td>\n      <td>Lake Keith</td>\n      <td>Djibouti</td>\n      <td>2022-12-31</td>\n      <td>3,732.34</td>\n      <td>e876e07ea2f145a6814d4f0dcbd6c14a</td>\n      <td>CUS-3129499595</td>\n      <td>debit</td>\n    </tr>\n    <tr>\n      <th>1</th>\n      <td>posted</td>\n      <td>0.0</td>\n      <td>NaN</td>\n      <td>ACC-2988263882</td>\n      <td>EUR</td>\n      <td>INTER BANK</td>\n      <td>c9da73d1-9d5e-4617-84c0-745f303de973</td>\n      <td>Bryan Bryant</td>\n      <td>Mendezbury</td>\n      <td>Korea</td>\n      <td>2020-10-05</td>\n      <td>586.36</td>\n      <td>591d3024ad564da5be4e3cc4e0f936e3</td>\n      <td>CUS-2031327464</td>\n      <td>credit</td>\n    </tr>\n    <tr>\n      <th>2</th>\n      <td>posted</td>\n      <td>1.0</td>\n      <td>NaN</td>\n      <td>ACC-3233697971</td>\n      <td>EUR</td>\n      <td>PHONE BANK</td>\n      <td>cb979da4-882c-4a98-a0eb-8c219a7a86ed</td>\n      <td>Traci Jackson</td>\n      <td>Lake Richard</td>\n      <td>Morocco</td>\n      <td>2022-09-11</td>\n      <td>1,072.71</td>\n      <td>685c2bf55e064db4b575a833004178b6</td>\n      <td>CUS-2505971401</td>\n      <td>debit</td>\n    </tr>\n    <tr>\n      <th>3</th>\n      <td>authorized</td>\n      <td>NaN</td>\n      <td>NaN</td>\n      <td>ACC-2615038700</td>\n      <td>EUR</td>\n      <td>PHONE BANK</td>\n      <td>f19f2a55-5bc6-4f5b-9c7a-48cdd07f6a44</td>\n      <td>William Armstrong</td>\n      <td>Lawrenceside</td>\n      <td>Mongolia</td>\n      <td>2020-06-08</td>\n      <td>609.20</td>\n      <td>c6664aa2e133417faa600a8563dce54c</td>\n      <td>CUS-1842679196</td>\n      <td>debit</td>\n    </tr>\n    <tr>\n      <th>4</th>\n      <td>posted</td>\n      <td>NaN</td>\n      <td>NaN</td>\n      <td>ACC-1890605467</td>\n      <td>EUR</td>\n      <td>INTER BANK</td>\n      <td>617a670e-a706-400a-bbfa-09858d56a871</td>\n      <td>Edward Owens</td>\n      <td>Stantonmouth</td>\n      <td>Korea</td>\n      <td>2022-02-28</td>\n      <td>1,639.45</td>\n      <td>664502f2f0004827bc2adc1908ea5485</td>\n      <td>CUS-2688605418</td>\n      <td>credit</td>\n    </tr>\n    <tr>\n      <th>...</th>\n      <td>...</td>\n      <td>...</td>\n      <td>...</td>\n      <td>...</td>\n      <td>...</td>\n      <td>...</td>\n      <td>...</td>\n      <td>...</td>\n      <td>...</td>\n      <td>...</td>\n      <td>...</td>\n      <td>...</td>\n      <td>...</td>\n      <td>...</td>\n      <td>...</td>\n    </tr>\n    <tr>\n      <th>11995</th>\n      <td>authorized</td>\n      <td>NaN</td>\n      <td>NaN</td>\n      <td>ACC-2650850707</td>\n      <td>EUR</td>\n      <td>POS</td>\n      <td>b2064789-cb26-4828-8874-20cf146cba01</td>\n      <td>Anthony Howell</td>\n      <td>Gregorymouth</td>\n      <td>Azerbaijan</td>\n      <td>2022-08-15</td>\n      <td>1,462.14</td>\n      <td>f2e9d3df110a42b18e4e7154e271bd57</td>\n      <td>CUS-443776336</td>\n      <td>credit</td>\n    </tr>\n    <tr>\n      <th>11996</th>\n      <td>posted</td>\n      <td>NaN</td>\n      <td>NaN</td>\n      <td>ACC-1516130869</td>\n      <td>EUR</td>\n      <td>PAY/SALARY</td>\n      <td>bc513677-92d4-4ed4-b8d1-9a35a806e335</td>\n      <td>Michael Porter</td>\n      <td>West Markhaven</td>\n      <td>United Kingdom</td>\n      <td>2023-02-17</td>\n      <td>4,705.07</td>\n      <td>104d6044ac47496ba4d7f93885af9156</td>\n      <td>CUS-537508723</td>\n      <td>credit</td>\n    </tr>\n    <tr>\n      <th>11997</th>\n      <td>authorized</td>\n      <td>1.0</td>\n      <td>NaN</td>\n      <td>ACC-2674800293</td>\n      <td>EUR</td>\n      <td>POS</td>\n      <td>080f11a9-7d38-40d1-84dc-b32f05742c52</td>\n      <td>Mr. Mark Bennett DDS</td>\n      <td>South Kimberly</td>\n      <td>Moldova</td>\n      <td>2022-07-16</td>\n      <td>4,382.18</td>\n      <td>1e671a8d719f4141a9e3d385cd01ee43</td>\n      <td>CUS-4123612273</td>\n      <td>debit</td>\n    </tr>\n    <tr>\n      <th>11998</th>\n      <td>posted</td>\n      <td>1.0</td>\n      <td>NaN</td>\n      <td>ACC-2650850707</td>\n      <td>EUR</td>\n      <td>INTER BANK</td>\n      <td>d0e302c4-e0c6-40ff-8038-62ec4ecf97ae</td>\n      <td>Wayne Barker</td>\n      <td>North Tabitha</td>\n      <td>Zambia</td>\n      <td>2020-02-20</td>\n      <td>4,214.47</td>\n      <td>6021e5edaba5456db63a92717e4cacd6</td>\n      <td>CUS-2819545904</td>\n      <td>debit</td>\n    </tr>\n    <tr>\n      <th>11999</th>\n      <td>authorized</td>\n      <td>0.0</td>\n      <td>NaN</td>\n      <td>ACC-2305712452</td>\n      <td>EUR</td>\n      <td>POS</td>\n      <td>8422eb4b-b489-458c-b07f-7e6561ebf63c</td>\n      <td>Andrea Wall</td>\n      <td>West Brandyfort</td>\n      <td>Hong Kong</td>\n      <td>2022-12-10</td>\n      <td>895.13</td>\n      <td>384505fe8a3a495595006f189bd72719</td>\n      <td>CUS-1388323263</td>\n      <td>debit</td>\n    </tr>\n  </tbody>\n</table>\n<p>12000 rows × 15 columns</p>\n</div>"
     },
     "execution_count": 9,
     "metadata": {},
     "output_type": "execute_result"
    }
   ],
   "source": [
    "df['date'] = pd.to_datetime(df['date'], format='%d/%b/%Y')\n",
    "\n",
    "df"
   ],
   "metadata": {
    "collapsed": false,
    "ExecuteTime": {
     "end_time": "2024-02-15T09:53:23.969999700Z",
     "start_time": "2024-02-15T09:53:23.904340500Z"
    }
   },
   "id": "e7268257bbd1f795",
   "execution_count": 9
  },
  {
   "cell_type": "code",
   "outputs": [
    {
     "data": {
      "text/plain": "           status  card_present_flag  bpay_biller_code      account_id  \\\n0          posted                NaN               NaN  ACC-2259139624   \n1          posted                0.0               NaN  ACC-2988263882   \n2          posted                1.0               NaN  ACC-3233697971   \n3      authorized                NaN               NaN  ACC-2615038700   \n4          posted                NaN               NaN  ACC-1890605467   \n...           ...                ...               ...             ...   \n11995  authorized                NaN               NaN  ACC-2650850707   \n11996      posted                NaN               NaN  ACC-1516130869   \n11997  authorized                1.0               NaN  ACC-2674800293   \n11998      posted                1.0               NaN  ACC-2650850707   \n11999  authorized                0.0               NaN  ACC-2305712452   \n\n      currency txn_description                           merchant_id  \\\n0          EUR         PAYMENT  9509caa2-87ca-4231-a299-988beb17cb42   \n1          EUR      INTER BANK  c9da73d1-9d5e-4617-84c0-745f303de973   \n2          EUR      PHONE BANK  cb979da4-882c-4a98-a0eb-8c219a7a86ed   \n3          EUR      PHONE BANK  f19f2a55-5bc6-4f5b-9c7a-48cdd07f6a44   \n4          EUR      INTER BANK  617a670e-a706-400a-bbfa-09858d56a871   \n...        ...             ...                                   ...   \n11995      EUR             POS  b2064789-cb26-4828-8874-20cf146cba01   \n11996      EUR      PAY/SALARY  bc513677-92d4-4ed4-b8d1-9a35a806e335   \n11997      EUR             POS  080f11a9-7d38-40d1-84dc-b32f05742c52   \n11998      EUR      INTER BANK  d0e302c4-e0c6-40ff-8038-62ec4ecf97ae   \n11999      EUR             POS  8422eb4b-b489-458c-b07f-7e6561ebf63c   \n\n                       name             city         country       date  \\\n0               Derek Mejia       Lake Keith        Djibouti 2022-12-31   \n1              Bryan Bryant       Mendezbury           Korea 2020-10-05   \n2             Traci Jackson     Lake Richard         Morocco 2022-09-11   \n3         William Armstrong     Lawrenceside        Mongolia 2020-06-08   \n4              Edward Owens     Stantonmouth           Korea 2022-02-28   \n...                     ...              ...             ...        ...   \n11995        Anthony Howell     Gregorymouth      Azerbaijan 2022-08-15   \n11996        Michael Porter   West Markhaven  United Kingdom 2023-02-17   \n11997  Mr. Mark Bennett DDS   South Kimberly         Moldova 2022-07-16   \n11998          Wayne Barker    North Tabitha          Zambia 2020-02-20   \n11999           Andrea Wall  West Brandyfort       Hong Kong 2022-12-10   \n\n         amount                    transaction_id     customer_id movement  \\\n0      3,732.34  e876e07ea2f145a6814d4f0dcbd6c14a  CUS-3129499595    debit   \n1        586.36  591d3024ad564da5be4e3cc4e0f936e3  CUS-2031327464   credit   \n2      1,072.71  685c2bf55e064db4b575a833004178b6  CUS-2505971401    debit   \n3        609.20  c6664aa2e133417faa600a8563dce54c  CUS-1842679196    debit   \n4      1,639.45  664502f2f0004827bc2adc1908ea5485  CUS-2688605418   credit   \n...         ...                               ...             ...      ...   \n11995  1,462.14  f2e9d3df110a42b18e4e7154e271bd57   CUS-443776336   credit   \n11996  4,705.07  104d6044ac47496ba4d7f93885af9156   CUS-537508723   credit   \n11997  4,382.18  1e671a8d719f4141a9e3d385cd01ee43  CUS-4123612273    debit   \n11998  4,214.47  6021e5edaba5456db63a92717e4cacd6  CUS-2819545904    debit   \n11999    895.13  384505fe8a3a495595006f189bd72719  CUS-1388323263    debit   \n\n       amount_cleaned  \n0             3732.34  \n1              586.36  \n2             1072.71  \n3              609.20  \n4             1639.45  \n...               ...  \n11995         1462.14  \n11996         4705.07  \n11997         4382.18  \n11998         4214.47  \n11999          895.13  \n\n[12000 rows x 16 columns]",
      "text/html": "<div>\n<style scoped>\n    .dataframe tbody tr th:only-of-type {\n        vertical-align: middle;\n    }\n\n    .dataframe tbody tr th {\n        vertical-align: top;\n    }\n\n    .dataframe thead th {\n        text-align: right;\n    }\n</style>\n<table border=\"1\" class=\"dataframe\">\n  <thead>\n    <tr style=\"text-align: right;\">\n      <th></th>\n      <th>status</th>\n      <th>card_present_flag</th>\n      <th>bpay_biller_code</th>\n      <th>account_id</th>\n      <th>currency</th>\n      <th>txn_description</th>\n      <th>merchant_id</th>\n      <th>name</th>\n      <th>city</th>\n      <th>country</th>\n      <th>date</th>\n      <th>amount</th>\n      <th>transaction_id</th>\n      <th>customer_id</th>\n      <th>movement</th>\n      <th>amount_cleaned</th>\n    </tr>\n  </thead>\n  <tbody>\n    <tr>\n      <th>0</th>\n      <td>posted</td>\n      <td>NaN</td>\n      <td>NaN</td>\n      <td>ACC-2259139624</td>\n      <td>EUR</td>\n      <td>PAYMENT</td>\n      <td>9509caa2-87ca-4231-a299-988beb17cb42</td>\n      <td>Derek Mejia</td>\n      <td>Lake Keith</td>\n      <td>Djibouti</td>\n      <td>2022-12-31</td>\n      <td>3,732.34</td>\n      <td>e876e07ea2f145a6814d4f0dcbd6c14a</td>\n      <td>CUS-3129499595</td>\n      <td>debit</td>\n      <td>3732.34</td>\n    </tr>\n    <tr>\n      <th>1</th>\n      <td>posted</td>\n      <td>0.0</td>\n      <td>NaN</td>\n      <td>ACC-2988263882</td>\n      <td>EUR</td>\n      <td>INTER BANK</td>\n      <td>c9da73d1-9d5e-4617-84c0-745f303de973</td>\n      <td>Bryan Bryant</td>\n      <td>Mendezbury</td>\n      <td>Korea</td>\n      <td>2020-10-05</td>\n      <td>586.36</td>\n      <td>591d3024ad564da5be4e3cc4e0f936e3</td>\n      <td>CUS-2031327464</td>\n      <td>credit</td>\n      <td>586.36</td>\n    </tr>\n    <tr>\n      <th>2</th>\n      <td>posted</td>\n      <td>1.0</td>\n      <td>NaN</td>\n      <td>ACC-3233697971</td>\n      <td>EUR</td>\n      <td>PHONE BANK</td>\n      <td>cb979da4-882c-4a98-a0eb-8c219a7a86ed</td>\n      <td>Traci Jackson</td>\n      <td>Lake Richard</td>\n      <td>Morocco</td>\n      <td>2022-09-11</td>\n      <td>1,072.71</td>\n      <td>685c2bf55e064db4b575a833004178b6</td>\n      <td>CUS-2505971401</td>\n      <td>debit</td>\n      <td>1072.71</td>\n    </tr>\n    <tr>\n      <th>3</th>\n      <td>authorized</td>\n      <td>NaN</td>\n      <td>NaN</td>\n      <td>ACC-2615038700</td>\n      <td>EUR</td>\n      <td>PHONE BANK</td>\n      <td>f19f2a55-5bc6-4f5b-9c7a-48cdd07f6a44</td>\n      <td>William Armstrong</td>\n      <td>Lawrenceside</td>\n      <td>Mongolia</td>\n      <td>2020-06-08</td>\n      <td>609.20</td>\n      <td>c6664aa2e133417faa600a8563dce54c</td>\n      <td>CUS-1842679196</td>\n      <td>debit</td>\n      <td>609.20</td>\n    </tr>\n    <tr>\n      <th>4</th>\n      <td>posted</td>\n      <td>NaN</td>\n      <td>NaN</td>\n      <td>ACC-1890605467</td>\n      <td>EUR</td>\n      <td>INTER BANK</td>\n      <td>617a670e-a706-400a-bbfa-09858d56a871</td>\n      <td>Edward Owens</td>\n      <td>Stantonmouth</td>\n      <td>Korea</td>\n      <td>2022-02-28</td>\n      <td>1,639.45</td>\n      <td>664502f2f0004827bc2adc1908ea5485</td>\n      <td>CUS-2688605418</td>\n      <td>credit</td>\n      <td>1639.45</td>\n    </tr>\n    <tr>\n      <th>...</th>\n      <td>...</td>\n      <td>...</td>\n      <td>...</td>\n      <td>...</td>\n      <td>...</td>\n      <td>...</td>\n      <td>...</td>\n      <td>...</td>\n      <td>...</td>\n      <td>...</td>\n      <td>...</td>\n      <td>...</td>\n      <td>...</td>\n      <td>...</td>\n      <td>...</td>\n      <td>...</td>\n    </tr>\n    <tr>\n      <th>11995</th>\n      <td>authorized</td>\n      <td>NaN</td>\n      <td>NaN</td>\n      <td>ACC-2650850707</td>\n      <td>EUR</td>\n      <td>POS</td>\n      <td>b2064789-cb26-4828-8874-20cf146cba01</td>\n      <td>Anthony Howell</td>\n      <td>Gregorymouth</td>\n      <td>Azerbaijan</td>\n      <td>2022-08-15</td>\n      <td>1,462.14</td>\n      <td>f2e9d3df110a42b18e4e7154e271bd57</td>\n      <td>CUS-443776336</td>\n      <td>credit</td>\n      <td>1462.14</td>\n    </tr>\n    <tr>\n      <th>11996</th>\n      <td>posted</td>\n      <td>NaN</td>\n      <td>NaN</td>\n      <td>ACC-1516130869</td>\n      <td>EUR</td>\n      <td>PAY/SALARY</td>\n      <td>bc513677-92d4-4ed4-b8d1-9a35a806e335</td>\n      <td>Michael Porter</td>\n      <td>West Markhaven</td>\n      <td>United Kingdom</td>\n      <td>2023-02-17</td>\n      <td>4,705.07</td>\n      <td>104d6044ac47496ba4d7f93885af9156</td>\n      <td>CUS-537508723</td>\n      <td>credit</td>\n      <td>4705.07</td>\n    </tr>\n    <tr>\n      <th>11997</th>\n      <td>authorized</td>\n      <td>1.0</td>\n      <td>NaN</td>\n      <td>ACC-2674800293</td>\n      <td>EUR</td>\n      <td>POS</td>\n      <td>080f11a9-7d38-40d1-84dc-b32f05742c52</td>\n      <td>Mr. Mark Bennett DDS</td>\n      <td>South Kimberly</td>\n      <td>Moldova</td>\n      <td>2022-07-16</td>\n      <td>4,382.18</td>\n      <td>1e671a8d719f4141a9e3d385cd01ee43</td>\n      <td>CUS-4123612273</td>\n      <td>debit</td>\n      <td>4382.18</td>\n    </tr>\n    <tr>\n      <th>11998</th>\n      <td>posted</td>\n      <td>1.0</td>\n      <td>NaN</td>\n      <td>ACC-2650850707</td>\n      <td>EUR</td>\n      <td>INTER BANK</td>\n      <td>d0e302c4-e0c6-40ff-8038-62ec4ecf97ae</td>\n      <td>Wayne Barker</td>\n      <td>North Tabitha</td>\n      <td>Zambia</td>\n      <td>2020-02-20</td>\n      <td>4,214.47</td>\n      <td>6021e5edaba5456db63a92717e4cacd6</td>\n      <td>CUS-2819545904</td>\n      <td>debit</td>\n      <td>4214.47</td>\n    </tr>\n    <tr>\n      <th>11999</th>\n      <td>authorized</td>\n      <td>0.0</td>\n      <td>NaN</td>\n      <td>ACC-2305712452</td>\n      <td>EUR</td>\n      <td>POS</td>\n      <td>8422eb4b-b489-458c-b07f-7e6561ebf63c</td>\n      <td>Andrea Wall</td>\n      <td>West Brandyfort</td>\n      <td>Hong Kong</td>\n      <td>2022-12-10</td>\n      <td>895.13</td>\n      <td>384505fe8a3a495595006f189bd72719</td>\n      <td>CUS-1388323263</td>\n      <td>debit</td>\n      <td>895.13</td>\n    </tr>\n  </tbody>\n</table>\n<p>12000 rows × 16 columns</p>\n</div>"
     },
     "execution_count": 12,
     "metadata": {},
     "output_type": "execute_result"
    }
   ],
   "source": [
    "df['amount_cleaned'] = df['amount'].str.replace(',', '').astype(float)\n",
    "\n",
    "df"
   ],
   "metadata": {
    "collapsed": false,
    "ExecuteTime": {
     "end_time": "2024-02-15T09:58:03.422469800Z",
     "start_time": "2024-02-15T09:58:03.388779500Z"
    }
   },
   "id": "e38a134482bef9ea",
   "execution_count": 12
  },
  {
   "cell_type": "code",
   "outputs": [
    {
     "data": {
      "text/plain": "array([2020, 2021, 2022, 2023])"
     },
     "execution_count": 17,
     "metadata": {},
     "output_type": "execute_result"
    }
   ],
   "source": [
    "years = df['date'].dt.year.unique()\n",
    " \n",
    "years.sort()\n",
    "\n",
    "years"
   ],
   "metadata": {
    "collapsed": false,
    "ExecuteTime": {
     "end_time": "2024-02-15T10:09:14.563337900Z",
     "start_time": "2024-02-15T10:09:14.555715500Z"
    }
   },
   "id": "4fad845f40a6f5ba",
   "execution_count": 17
  },
  {
   "cell_type": "code",
   "outputs": [
    {
     "data": {
      "text/plain": "       amount_cleaned movement  direction\n0            -3732.34    debit         -1\n1              586.36   credit          1\n2            -1072.71    debit         -1\n3             -609.20    debit         -1\n4             1639.45   credit          1\n...               ...      ...        ...\n11995         1462.14   credit          1\n11996         4705.07   credit          1\n11997        -4382.18    debit         -1\n11998        -4214.47    debit         -1\n11999         -895.13    debit         -1\n\n[12000 rows x 3 columns]",
      "text/html": "<div>\n<style scoped>\n    .dataframe tbody tr th:only-of-type {\n        vertical-align: middle;\n    }\n\n    .dataframe tbody tr th {\n        vertical-align: top;\n    }\n\n    .dataframe thead th {\n        text-align: right;\n    }\n</style>\n<table border=\"1\" class=\"dataframe\">\n  <thead>\n    <tr style=\"text-align: right;\">\n      <th></th>\n      <th>amount_cleaned</th>\n      <th>movement</th>\n      <th>direction</th>\n    </tr>\n  </thead>\n  <tbody>\n    <tr>\n      <th>0</th>\n      <td>-3732.34</td>\n      <td>debit</td>\n      <td>-1</td>\n    </tr>\n    <tr>\n      <th>1</th>\n      <td>586.36</td>\n      <td>credit</td>\n      <td>1</td>\n    </tr>\n    <tr>\n      <th>2</th>\n      <td>-1072.71</td>\n      <td>debit</td>\n      <td>-1</td>\n    </tr>\n    <tr>\n      <th>3</th>\n      <td>-609.20</td>\n      <td>debit</td>\n      <td>-1</td>\n    </tr>\n    <tr>\n      <th>4</th>\n      <td>1639.45</td>\n      <td>credit</td>\n      <td>1</td>\n    </tr>\n    <tr>\n      <th>...</th>\n      <td>...</td>\n      <td>...</td>\n      <td>...</td>\n    </tr>\n    <tr>\n      <th>11995</th>\n      <td>1462.14</td>\n      <td>credit</td>\n      <td>1</td>\n    </tr>\n    <tr>\n      <th>11996</th>\n      <td>4705.07</td>\n      <td>credit</td>\n      <td>1</td>\n    </tr>\n    <tr>\n      <th>11997</th>\n      <td>-4382.18</td>\n      <td>debit</td>\n      <td>-1</td>\n    </tr>\n    <tr>\n      <th>11998</th>\n      <td>-4214.47</td>\n      <td>debit</td>\n      <td>-1</td>\n    </tr>\n    <tr>\n      <th>11999</th>\n      <td>-895.13</td>\n      <td>debit</td>\n      <td>-1</td>\n    </tr>\n  </tbody>\n</table>\n<p>12000 rows × 3 columns</p>\n</div>"
     },
     "execution_count": 23,
     "metadata": {},
     "output_type": "execute_result"
    }
   ],
   "source": [
    "direction = []\n",
    "for movement in df['movement'].tolist():\n",
    "    if movement == 'debit':\n",
    "        direction.append(-1)\n",
    "    else:\n",
    "        direction.append(1)\n",
    "\n",
    "df['direction'] = direction        \n",
    "\n",
    "df['amount_cleaned'] = df['amount_cleaned'] * df['direction']\n",
    "\n",
    "df[ [ 'amount_cleaned', 'movement', 'direction' ] ]"
   ],
   "metadata": {
    "collapsed": false,
    "ExecuteTime": {
     "end_time": "2024-02-15T10:19:07.662517400Z",
     "start_time": "2024-02-15T10:19:07.625312700Z"
    }
   },
   "id": "d91e051c55092e01",
   "execution_count": 23
  },
  {
   "cell_type": "code",
   "outputs": [
    {
     "data": {
      "text/plain": "0       -1\n1        1\n2       -1\n3       -1\n4        1\n        ..\n11995    1\n11996    1\n11997   -1\n11998   -1\n11999   -1\nName: movement, Length: 12000, dtype: int64"
     },
     "execution_count": 24,
     "metadata": {},
     "output_type": "execute_result"
    }
   ],
   "source": [
    "movement_map = {\n",
    "    'debit': -1,\n",
    "    'credit': 1\n",
    "}\n",
    "\n",
    "df['movement'].map(movement_map)"
   ],
   "metadata": {
    "collapsed": false,
    "ExecuteTime": {
     "end_time": "2024-02-15T10:21:16.387739700Z",
     "start_time": "2024-02-15T10:21:16.369571100Z"
    }
   },
   "id": "aafcf52f5fcf9333",
   "execution_count": 24
  },
  {
   "cell_type": "code",
   "outputs": [
    {
     "data": {
      "text/plain": "       amount_cleaned       date    month\n0            -3732.34 2022-12-31  2022-12\n1              586.36 2020-10-05  2020-10\n2            -1072.71 2022-09-11  2022-09\n3             -609.20 2020-06-08  2020-06\n4             1639.45 2022-02-28  2022-02\n...               ...        ...      ...\n11995         1462.14 2022-08-15  2022-08\n11996         4705.07 2023-02-17  2023-02\n11997        -4382.18 2022-07-16  2022-07\n11998        -4214.47 2020-02-20  2020-02\n11999         -895.13 2022-12-10  2022-12\n\n[12000 rows x 3 columns]",
      "text/html": "<div>\n<style scoped>\n    .dataframe tbody tr th:only-of-type {\n        vertical-align: middle;\n    }\n\n    .dataframe tbody tr th {\n        vertical-align: top;\n    }\n\n    .dataframe thead th {\n        text-align: right;\n    }\n</style>\n<table border=\"1\" class=\"dataframe\">\n  <thead>\n    <tr style=\"text-align: right;\">\n      <th></th>\n      <th>amount_cleaned</th>\n      <th>date</th>\n      <th>month</th>\n    </tr>\n  </thead>\n  <tbody>\n    <tr>\n      <th>0</th>\n      <td>-3732.34</td>\n      <td>2022-12-31</td>\n      <td>2022-12</td>\n    </tr>\n    <tr>\n      <th>1</th>\n      <td>586.36</td>\n      <td>2020-10-05</td>\n      <td>2020-10</td>\n    </tr>\n    <tr>\n      <th>2</th>\n      <td>-1072.71</td>\n      <td>2022-09-11</td>\n      <td>2022-09</td>\n    </tr>\n    <tr>\n      <th>3</th>\n      <td>-609.20</td>\n      <td>2020-06-08</td>\n      <td>2020-06</td>\n    </tr>\n    <tr>\n      <th>4</th>\n      <td>1639.45</td>\n      <td>2022-02-28</td>\n      <td>2022-02</td>\n    </tr>\n    <tr>\n      <th>...</th>\n      <td>...</td>\n      <td>...</td>\n      <td>...</td>\n    </tr>\n    <tr>\n      <th>11995</th>\n      <td>1462.14</td>\n      <td>2022-08-15</td>\n      <td>2022-08</td>\n    </tr>\n    <tr>\n      <th>11996</th>\n      <td>4705.07</td>\n      <td>2023-02-17</td>\n      <td>2023-02</td>\n    </tr>\n    <tr>\n      <th>11997</th>\n      <td>-4382.18</td>\n      <td>2022-07-16</td>\n      <td>2022-07</td>\n    </tr>\n    <tr>\n      <th>11998</th>\n      <td>-4214.47</td>\n      <td>2020-02-20</td>\n      <td>2020-02</td>\n    </tr>\n    <tr>\n      <th>11999</th>\n      <td>-895.13</td>\n      <td>2022-12-10</td>\n      <td>2022-12</td>\n    </tr>\n  </tbody>\n</table>\n<p>12000 rows × 3 columns</p>\n</div>"
     },
     "execution_count": 29,
     "metadata": {},
     "output_type": "execute_result"
    }
   ],
   "source": [
    "df['month'] = df['date'].dt.strftime('%Y-%m')\n",
    "\n",
    "df[ [ 'amount_cleaned', 'date', 'month' ] ]\n"
   ],
   "metadata": {
    "collapsed": false,
    "ExecuteTime": {
     "end_time": "2024-02-15T10:26:09.021427600Z",
     "start_time": "2024-02-15T10:26:08.930064500Z"
    }
   },
   "id": "62a79d518b213fe1",
   "execution_count": 29
  },
  {
   "cell_type": "code",
   "outputs": [],
   "source": [
    "df_amount_per_month = df.groupby('month')['amount_cleaned'].sum().reset_index().sort_values(by='month')"
   ],
   "metadata": {
    "collapsed": false,
    "ExecuteTime": {
     "end_time": "2024-02-15T11:08:47.390800400Z",
     "start_time": "2024-02-15T11:08:47.324947300Z"
    }
   },
   "id": "90296b8aa5412d89",
   "execution_count": 34
  },
  {
   "cell_type": "code",
   "outputs": [
    {
     "data": {
      "application/vnd.plotly.v1+json": {
       "data": [
        {
         "alignmentgroup": "True",
         "hovertemplate": "Month=%{x}<br>Amount=%{y}<extra></extra>",
         "legendgroup": "",
         "marker": {
          "color": "green",
          "pattern": {
           "shape": ""
          }
         },
         "name": "",
         "offsetgroup": "",
         "orientation": "v",
         "showlegend": false,
         "textposition": "auto",
         "x": [
          "2020-01",
          "2020-02",
          "2020-03",
          "2020-04",
          "2020-05",
          "2020-06",
          "2020-07",
          "2020-08",
          "2020-09",
          "2020-10",
          "2020-11",
          "2020-12",
          "2021-01",
          "2021-02",
          "2021-03",
          "2021-04",
          "2021-05",
          "2021-06",
          "2021-07",
          "2021-08",
          "2021-09",
          "2021-10",
          "2021-11",
          "2021-12",
          "2022-01",
          "2022-02",
          "2022-03",
          "2022-04",
          "2022-05",
          "2022-06",
          "2022-07",
          "2022-08",
          "2022-09",
          "2022-10",
          "2022-11",
          "2022-12",
          "2023-01",
          "2023-02",
          "2023-03",
          "2023-04"
         ],
         "xaxis": "x",
         "y": [
          -6295.819999999998,
          -84841.76999999999,
          11830.740000000002,
          29911.16,
          145452.67,
          -69814.12999999999,
          -22028.23,
          7500.670000000002,
          6869.699999999998,
          20436.69000000001,
          -65233.439999999995,
          62863.6,
          56231.61,
          14541.819999999994,
          60495.74,
          43312.49,
          -25037.099999999995,
          -68662.09999999999,
          -73743.19,
          -86521.56999999999,
          -3447.8700000000003,
          -23729.680000000004,
          7971.659999999997,
          91814.89,
          34601.95,
          -25707.020000000004,
          68499.45,
          7728.220000000003,
          24652.24,
          -46631.1,
          63238.100000000006,
          55978.19,
          -27084.100000000002,
          -61706.619999999995,
          35794.64,
          -24983.499999999996,
          24580.16,
          24893.430000000008,
          41356.69999999999,
          -25590.059999999998
         ],
         "yaxis": "y",
         "type": "bar"
        }
       ],
       "layout": {
        "template": {
         "data": {
          "histogram2dcontour": [
           {
            "type": "histogram2dcontour",
            "colorbar": {
             "outlinewidth": 0,
             "ticks": ""
            },
            "colorscale": [
             [
              0.0,
              "#0d0887"
             ],
             [
              0.1111111111111111,
              "#46039f"
             ],
             [
              0.2222222222222222,
              "#7201a8"
             ],
             [
              0.3333333333333333,
              "#9c179e"
             ],
             [
              0.4444444444444444,
              "#bd3786"
             ],
             [
              0.5555555555555556,
              "#d8576b"
             ],
             [
              0.6666666666666666,
              "#ed7953"
             ],
             [
              0.7777777777777778,
              "#fb9f3a"
             ],
             [
              0.8888888888888888,
              "#fdca26"
             ],
             [
              1.0,
              "#f0f921"
             ]
            ]
           }
          ],
          "choropleth": [
           {
            "type": "choropleth",
            "colorbar": {
             "outlinewidth": 0,
             "ticks": ""
            }
           }
          ],
          "histogram2d": [
           {
            "type": "histogram2d",
            "colorbar": {
             "outlinewidth": 0,
             "ticks": ""
            },
            "colorscale": [
             [
              0.0,
              "#0d0887"
             ],
             [
              0.1111111111111111,
              "#46039f"
             ],
             [
              0.2222222222222222,
              "#7201a8"
             ],
             [
              0.3333333333333333,
              "#9c179e"
             ],
             [
              0.4444444444444444,
              "#bd3786"
             ],
             [
              0.5555555555555556,
              "#d8576b"
             ],
             [
              0.6666666666666666,
              "#ed7953"
             ],
             [
              0.7777777777777778,
              "#fb9f3a"
             ],
             [
              0.8888888888888888,
              "#fdca26"
             ],
             [
              1.0,
              "#f0f921"
             ]
            ]
           }
          ],
          "heatmap": [
           {
            "type": "heatmap",
            "colorbar": {
             "outlinewidth": 0,
             "ticks": ""
            },
            "colorscale": [
             [
              0.0,
              "#0d0887"
             ],
             [
              0.1111111111111111,
              "#46039f"
             ],
             [
              0.2222222222222222,
              "#7201a8"
             ],
             [
              0.3333333333333333,
              "#9c179e"
             ],
             [
              0.4444444444444444,
              "#bd3786"
             ],
             [
              0.5555555555555556,
              "#d8576b"
             ],
             [
              0.6666666666666666,
              "#ed7953"
             ],
             [
              0.7777777777777778,
              "#fb9f3a"
             ],
             [
              0.8888888888888888,
              "#fdca26"
             ],
             [
              1.0,
              "#f0f921"
             ]
            ]
           }
          ],
          "heatmapgl": [
           {
            "type": "heatmapgl",
            "colorbar": {
             "outlinewidth": 0,
             "ticks": ""
            },
            "colorscale": [
             [
              0.0,
              "#0d0887"
             ],
             [
              0.1111111111111111,
              "#46039f"
             ],
             [
              0.2222222222222222,
              "#7201a8"
             ],
             [
              0.3333333333333333,
              "#9c179e"
             ],
             [
              0.4444444444444444,
              "#bd3786"
             ],
             [
              0.5555555555555556,
              "#d8576b"
             ],
             [
              0.6666666666666666,
              "#ed7953"
             ],
             [
              0.7777777777777778,
              "#fb9f3a"
             ],
             [
              0.8888888888888888,
              "#fdca26"
             ],
             [
              1.0,
              "#f0f921"
             ]
            ]
           }
          ],
          "contourcarpet": [
           {
            "type": "contourcarpet",
            "colorbar": {
             "outlinewidth": 0,
             "ticks": ""
            }
           }
          ],
          "contour": [
           {
            "type": "contour",
            "colorbar": {
             "outlinewidth": 0,
             "ticks": ""
            },
            "colorscale": [
             [
              0.0,
              "#0d0887"
             ],
             [
              0.1111111111111111,
              "#46039f"
             ],
             [
              0.2222222222222222,
              "#7201a8"
             ],
             [
              0.3333333333333333,
              "#9c179e"
             ],
             [
              0.4444444444444444,
              "#bd3786"
             ],
             [
              0.5555555555555556,
              "#d8576b"
             ],
             [
              0.6666666666666666,
              "#ed7953"
             ],
             [
              0.7777777777777778,
              "#fb9f3a"
             ],
             [
              0.8888888888888888,
              "#fdca26"
             ],
             [
              1.0,
              "#f0f921"
             ]
            ]
           }
          ],
          "surface": [
           {
            "type": "surface",
            "colorbar": {
             "outlinewidth": 0,
             "ticks": ""
            },
            "colorscale": [
             [
              0.0,
              "#0d0887"
             ],
             [
              0.1111111111111111,
              "#46039f"
             ],
             [
              0.2222222222222222,
              "#7201a8"
             ],
             [
              0.3333333333333333,
              "#9c179e"
             ],
             [
              0.4444444444444444,
              "#bd3786"
             ],
             [
              0.5555555555555556,
              "#d8576b"
             ],
             [
              0.6666666666666666,
              "#ed7953"
             ],
             [
              0.7777777777777778,
              "#fb9f3a"
             ],
             [
              0.8888888888888888,
              "#fdca26"
             ],
             [
              1.0,
              "#f0f921"
             ]
            ]
           }
          ],
          "mesh3d": [
           {
            "type": "mesh3d",
            "colorbar": {
             "outlinewidth": 0,
             "ticks": ""
            }
           }
          ],
          "scatter": [
           {
            "fillpattern": {
             "fillmode": "overlay",
             "size": 10,
             "solidity": 0.2
            },
            "type": "scatter"
           }
          ],
          "parcoords": [
           {
            "type": "parcoords",
            "line": {
             "colorbar": {
              "outlinewidth": 0,
              "ticks": ""
             }
            }
           }
          ],
          "scatterpolargl": [
           {
            "type": "scatterpolargl",
            "marker": {
             "colorbar": {
              "outlinewidth": 0,
              "ticks": ""
             }
            }
           }
          ],
          "bar": [
           {
            "error_x": {
             "color": "#2a3f5f"
            },
            "error_y": {
             "color": "#2a3f5f"
            },
            "marker": {
             "line": {
              "color": "#E5ECF6",
              "width": 0.5
             },
             "pattern": {
              "fillmode": "overlay",
              "size": 10,
              "solidity": 0.2
             }
            },
            "type": "bar"
           }
          ],
          "scattergeo": [
           {
            "type": "scattergeo",
            "marker": {
             "colorbar": {
              "outlinewidth": 0,
              "ticks": ""
             }
            }
           }
          ],
          "scatterpolar": [
           {
            "type": "scatterpolar",
            "marker": {
             "colorbar": {
              "outlinewidth": 0,
              "ticks": ""
             }
            }
           }
          ],
          "histogram": [
           {
            "marker": {
             "pattern": {
              "fillmode": "overlay",
              "size": 10,
              "solidity": 0.2
             }
            },
            "type": "histogram"
           }
          ],
          "scattergl": [
           {
            "type": "scattergl",
            "marker": {
             "colorbar": {
              "outlinewidth": 0,
              "ticks": ""
             }
            }
           }
          ],
          "scatter3d": [
           {
            "type": "scatter3d",
            "line": {
             "colorbar": {
              "outlinewidth": 0,
              "ticks": ""
             }
            },
            "marker": {
             "colorbar": {
              "outlinewidth": 0,
              "ticks": ""
             }
            }
           }
          ],
          "scattermapbox": [
           {
            "type": "scattermapbox",
            "marker": {
             "colorbar": {
              "outlinewidth": 0,
              "ticks": ""
             }
            }
           }
          ],
          "scatterternary": [
           {
            "type": "scatterternary",
            "marker": {
             "colorbar": {
              "outlinewidth": 0,
              "ticks": ""
             }
            }
           }
          ],
          "scattercarpet": [
           {
            "type": "scattercarpet",
            "marker": {
             "colorbar": {
              "outlinewidth": 0,
              "ticks": ""
             }
            }
           }
          ],
          "carpet": [
           {
            "aaxis": {
             "endlinecolor": "#2a3f5f",
             "gridcolor": "white",
             "linecolor": "white",
             "minorgridcolor": "white",
             "startlinecolor": "#2a3f5f"
            },
            "baxis": {
             "endlinecolor": "#2a3f5f",
             "gridcolor": "white",
             "linecolor": "white",
             "minorgridcolor": "white",
             "startlinecolor": "#2a3f5f"
            },
            "type": "carpet"
           }
          ],
          "table": [
           {
            "cells": {
             "fill": {
              "color": "#EBF0F8"
             },
             "line": {
              "color": "white"
             }
            },
            "header": {
             "fill": {
              "color": "#C8D4E3"
             },
             "line": {
              "color": "white"
             }
            },
            "type": "table"
           }
          ],
          "barpolar": [
           {
            "marker": {
             "line": {
              "color": "#E5ECF6",
              "width": 0.5
             },
             "pattern": {
              "fillmode": "overlay",
              "size": 10,
              "solidity": 0.2
             }
            },
            "type": "barpolar"
           }
          ],
          "pie": [
           {
            "automargin": true,
            "type": "pie"
           }
          ]
         },
         "layout": {
          "autotypenumbers": "strict",
          "colorway": [
           "#636efa",
           "#EF553B",
           "#00cc96",
           "#ab63fa",
           "#FFA15A",
           "#19d3f3",
           "#FF6692",
           "#B6E880",
           "#FF97FF",
           "#FECB52"
          ],
          "font": {
           "color": "#2a3f5f"
          },
          "hovermode": "closest",
          "hoverlabel": {
           "align": "left"
          },
          "paper_bgcolor": "white",
          "plot_bgcolor": "#E5ECF6",
          "polar": {
           "bgcolor": "#E5ECF6",
           "angularaxis": {
            "gridcolor": "white",
            "linecolor": "white",
            "ticks": ""
           },
           "radialaxis": {
            "gridcolor": "white",
            "linecolor": "white",
            "ticks": ""
           }
          },
          "ternary": {
           "bgcolor": "#E5ECF6",
           "aaxis": {
            "gridcolor": "white",
            "linecolor": "white",
            "ticks": ""
           },
           "baxis": {
            "gridcolor": "white",
            "linecolor": "white",
            "ticks": ""
           },
           "caxis": {
            "gridcolor": "white",
            "linecolor": "white",
            "ticks": ""
           }
          },
          "coloraxis": {
           "colorbar": {
            "outlinewidth": 0,
            "ticks": ""
           }
          },
          "colorscale": {
           "sequential": [
            [
             0.0,
             "#0d0887"
            ],
            [
             0.1111111111111111,
             "#46039f"
            ],
            [
             0.2222222222222222,
             "#7201a8"
            ],
            [
             0.3333333333333333,
             "#9c179e"
            ],
            [
             0.4444444444444444,
             "#bd3786"
            ],
            [
             0.5555555555555556,
             "#d8576b"
            ],
            [
             0.6666666666666666,
             "#ed7953"
            ],
            [
             0.7777777777777778,
             "#fb9f3a"
            ],
            [
             0.8888888888888888,
             "#fdca26"
            ],
            [
             1.0,
             "#f0f921"
            ]
           ],
           "sequentialminus": [
            [
             0.0,
             "#0d0887"
            ],
            [
             0.1111111111111111,
             "#46039f"
            ],
            [
             0.2222222222222222,
             "#7201a8"
            ],
            [
             0.3333333333333333,
             "#9c179e"
            ],
            [
             0.4444444444444444,
             "#bd3786"
            ],
            [
             0.5555555555555556,
             "#d8576b"
            ],
            [
             0.6666666666666666,
             "#ed7953"
            ],
            [
             0.7777777777777778,
             "#fb9f3a"
            ],
            [
             0.8888888888888888,
             "#fdca26"
            ],
            [
             1.0,
             "#f0f921"
            ]
           ],
           "diverging": [
            [
             0,
             "#8e0152"
            ],
            [
             0.1,
             "#c51b7d"
            ],
            [
             0.2,
             "#de77ae"
            ],
            [
             0.3,
             "#f1b6da"
            ],
            [
             0.4,
             "#fde0ef"
            ],
            [
             0.5,
             "#f7f7f7"
            ],
            [
             0.6,
             "#e6f5d0"
            ],
            [
             0.7,
             "#b8e186"
            ],
            [
             0.8,
             "#7fbc41"
            ],
            [
             0.9,
             "#4d9221"
            ],
            [
             1,
             "#276419"
            ]
           ]
          },
          "xaxis": {
           "gridcolor": "white",
           "linecolor": "white",
           "ticks": "",
           "title": {
            "standoff": 15
           },
           "zerolinecolor": "white",
           "automargin": true,
           "zerolinewidth": 2
          },
          "yaxis": {
           "gridcolor": "white",
           "linecolor": "white",
           "ticks": "",
           "title": {
            "standoff": 15
           },
           "zerolinecolor": "white",
           "automargin": true,
           "zerolinewidth": 2
          },
          "scene": {
           "xaxis": {
            "backgroundcolor": "#E5ECF6",
            "gridcolor": "white",
            "linecolor": "white",
            "showbackground": true,
            "ticks": "",
            "zerolinecolor": "white",
            "gridwidth": 2
           },
           "yaxis": {
            "backgroundcolor": "#E5ECF6",
            "gridcolor": "white",
            "linecolor": "white",
            "showbackground": true,
            "ticks": "",
            "zerolinecolor": "white",
            "gridwidth": 2
           },
           "zaxis": {
            "backgroundcolor": "#E5ECF6",
            "gridcolor": "white",
            "linecolor": "white",
            "showbackground": true,
            "ticks": "",
            "zerolinecolor": "white",
            "gridwidth": 2
           }
          },
          "shapedefaults": {
           "line": {
            "color": "#2a3f5f"
           }
          },
          "annotationdefaults": {
           "arrowcolor": "#2a3f5f",
           "arrowhead": 0,
           "arrowwidth": 1
          },
          "geo": {
           "bgcolor": "white",
           "landcolor": "#E5ECF6",
           "subunitcolor": "white",
           "showland": true,
           "showlakes": true,
           "lakecolor": "white"
          },
          "title": {
           "x": 0.05
          },
          "mapbox": {
           "style": "light"
          }
         }
        },
        "xaxis": {
         "anchor": "y",
         "domain": [
          0.0,
          1.0
         ],
         "title": {
          "text": "Month"
         }
        },
        "yaxis": {
         "anchor": "x",
         "domain": [
          0.0,
          1.0
         ],
         "title": {
          "text": "Amount"
         }
        },
        "legend": {
         "tracegroupgap": 0
        },
        "margin": {
         "t": 60
        },
        "barmode": "relative",
        "font": {
         "family": "Helvetica",
         "size": 25
        },
        "title": {
         "text": "Amount per month"
        },
        "plot_bgcolor": "white"
       },
       "config": {
        "plotlyServerURL": "https://plot.ly"
       }
      },
      "text/html": "<div>                            <div id=\"9b026fb8-deaa-4bc7-942f-6778daa43293\" class=\"plotly-graph-div\" style=\"height:525px; width:100%;\"></div>            <script type=\"text/javascript\">                require([\"plotly\"], function(Plotly) {                    window.PLOTLYENV=window.PLOTLYENV || {};                                    if (document.getElementById(\"9b026fb8-deaa-4bc7-942f-6778daa43293\")) {                    Plotly.newPlot(                        \"9b026fb8-deaa-4bc7-942f-6778daa43293\",                        [{\"alignmentgroup\":\"True\",\"hovertemplate\":\"Month=%{x}\\u003cbr\\u003eAmount=%{y}\\u003cextra\\u003e\\u003c\\u002fextra\\u003e\",\"legendgroup\":\"\",\"marker\":{\"color\":\"green\",\"pattern\":{\"shape\":\"\"}},\"name\":\"\",\"offsetgroup\":\"\",\"orientation\":\"v\",\"showlegend\":false,\"textposition\":\"auto\",\"x\":[\"2020-01\",\"2020-02\",\"2020-03\",\"2020-04\",\"2020-05\",\"2020-06\",\"2020-07\",\"2020-08\",\"2020-09\",\"2020-10\",\"2020-11\",\"2020-12\",\"2021-01\",\"2021-02\",\"2021-03\",\"2021-04\",\"2021-05\",\"2021-06\",\"2021-07\",\"2021-08\",\"2021-09\",\"2021-10\",\"2021-11\",\"2021-12\",\"2022-01\",\"2022-02\",\"2022-03\",\"2022-04\",\"2022-05\",\"2022-06\",\"2022-07\",\"2022-08\",\"2022-09\",\"2022-10\",\"2022-11\",\"2022-12\",\"2023-01\",\"2023-02\",\"2023-03\",\"2023-04\"],\"xaxis\":\"x\",\"y\":[-6295.819999999998,-84841.76999999999,11830.740000000002,29911.16,145452.67,-69814.12999999999,-22028.23,7500.670000000002,6869.699999999998,20436.69000000001,-65233.439999999995,62863.6,56231.61,14541.819999999994,60495.74,43312.49,-25037.099999999995,-68662.09999999999,-73743.19,-86521.56999999999,-3447.8700000000003,-23729.680000000004,7971.659999999997,91814.89,34601.95,-25707.020000000004,68499.45,7728.220000000003,24652.24,-46631.1,63238.100000000006,55978.19,-27084.100000000002,-61706.619999999995,35794.64,-24983.499999999996,24580.16,24893.430000000008,41356.69999999999,-25590.059999999998],\"yaxis\":\"y\",\"type\":\"bar\"}],                        {\"template\":{\"data\":{\"histogram2dcontour\":[{\"type\":\"histogram2dcontour\",\"colorbar\":{\"outlinewidth\":0,\"ticks\":\"\"},\"colorscale\":[[0.0,\"#0d0887\"],[0.1111111111111111,\"#46039f\"],[0.2222222222222222,\"#7201a8\"],[0.3333333333333333,\"#9c179e\"],[0.4444444444444444,\"#bd3786\"],[0.5555555555555556,\"#d8576b\"],[0.6666666666666666,\"#ed7953\"],[0.7777777777777778,\"#fb9f3a\"],[0.8888888888888888,\"#fdca26\"],[1.0,\"#f0f921\"]]}],\"choropleth\":[{\"type\":\"choropleth\",\"colorbar\":{\"outlinewidth\":0,\"ticks\":\"\"}}],\"histogram2d\":[{\"type\":\"histogram2d\",\"colorbar\":{\"outlinewidth\":0,\"ticks\":\"\"},\"colorscale\":[[0.0,\"#0d0887\"],[0.1111111111111111,\"#46039f\"],[0.2222222222222222,\"#7201a8\"],[0.3333333333333333,\"#9c179e\"],[0.4444444444444444,\"#bd3786\"],[0.5555555555555556,\"#d8576b\"],[0.6666666666666666,\"#ed7953\"],[0.7777777777777778,\"#fb9f3a\"],[0.8888888888888888,\"#fdca26\"],[1.0,\"#f0f921\"]]}],\"heatmap\":[{\"type\":\"heatmap\",\"colorbar\":{\"outlinewidth\":0,\"ticks\":\"\"},\"colorscale\":[[0.0,\"#0d0887\"],[0.1111111111111111,\"#46039f\"],[0.2222222222222222,\"#7201a8\"],[0.3333333333333333,\"#9c179e\"],[0.4444444444444444,\"#bd3786\"],[0.5555555555555556,\"#d8576b\"],[0.6666666666666666,\"#ed7953\"],[0.7777777777777778,\"#fb9f3a\"],[0.8888888888888888,\"#fdca26\"],[1.0,\"#f0f921\"]]}],\"heatmapgl\":[{\"type\":\"heatmapgl\",\"colorbar\":{\"outlinewidth\":0,\"ticks\":\"\"},\"colorscale\":[[0.0,\"#0d0887\"],[0.1111111111111111,\"#46039f\"],[0.2222222222222222,\"#7201a8\"],[0.3333333333333333,\"#9c179e\"],[0.4444444444444444,\"#bd3786\"],[0.5555555555555556,\"#d8576b\"],[0.6666666666666666,\"#ed7953\"],[0.7777777777777778,\"#fb9f3a\"],[0.8888888888888888,\"#fdca26\"],[1.0,\"#f0f921\"]]}],\"contourcarpet\":[{\"type\":\"contourcarpet\",\"colorbar\":{\"outlinewidth\":0,\"ticks\":\"\"}}],\"contour\":[{\"type\":\"contour\",\"colorbar\":{\"outlinewidth\":0,\"ticks\":\"\"},\"colorscale\":[[0.0,\"#0d0887\"],[0.1111111111111111,\"#46039f\"],[0.2222222222222222,\"#7201a8\"],[0.3333333333333333,\"#9c179e\"],[0.4444444444444444,\"#bd3786\"],[0.5555555555555556,\"#d8576b\"],[0.6666666666666666,\"#ed7953\"],[0.7777777777777778,\"#fb9f3a\"],[0.8888888888888888,\"#fdca26\"],[1.0,\"#f0f921\"]]}],\"surface\":[{\"type\":\"surface\",\"colorbar\":{\"outlinewidth\":0,\"ticks\":\"\"},\"colorscale\":[[0.0,\"#0d0887\"],[0.1111111111111111,\"#46039f\"],[0.2222222222222222,\"#7201a8\"],[0.3333333333333333,\"#9c179e\"],[0.4444444444444444,\"#bd3786\"],[0.5555555555555556,\"#d8576b\"],[0.6666666666666666,\"#ed7953\"],[0.7777777777777778,\"#fb9f3a\"],[0.8888888888888888,\"#fdca26\"],[1.0,\"#f0f921\"]]}],\"mesh3d\":[{\"type\":\"mesh3d\",\"colorbar\":{\"outlinewidth\":0,\"ticks\":\"\"}}],\"scatter\":[{\"fillpattern\":{\"fillmode\":\"overlay\",\"size\":10,\"solidity\":0.2},\"type\":\"scatter\"}],\"parcoords\":[{\"type\":\"parcoords\",\"line\":{\"colorbar\":{\"outlinewidth\":0,\"ticks\":\"\"}}}],\"scatterpolargl\":[{\"type\":\"scatterpolargl\",\"marker\":{\"colorbar\":{\"outlinewidth\":0,\"ticks\":\"\"}}}],\"bar\":[{\"error_x\":{\"color\":\"#2a3f5f\"},\"error_y\":{\"color\":\"#2a3f5f\"},\"marker\":{\"line\":{\"color\":\"#E5ECF6\",\"width\":0.5},\"pattern\":{\"fillmode\":\"overlay\",\"size\":10,\"solidity\":0.2}},\"type\":\"bar\"}],\"scattergeo\":[{\"type\":\"scattergeo\",\"marker\":{\"colorbar\":{\"outlinewidth\":0,\"ticks\":\"\"}}}],\"scatterpolar\":[{\"type\":\"scatterpolar\",\"marker\":{\"colorbar\":{\"outlinewidth\":0,\"ticks\":\"\"}}}],\"histogram\":[{\"marker\":{\"pattern\":{\"fillmode\":\"overlay\",\"size\":10,\"solidity\":0.2}},\"type\":\"histogram\"}],\"scattergl\":[{\"type\":\"scattergl\",\"marker\":{\"colorbar\":{\"outlinewidth\":0,\"ticks\":\"\"}}}],\"scatter3d\":[{\"type\":\"scatter3d\",\"line\":{\"colorbar\":{\"outlinewidth\":0,\"ticks\":\"\"}},\"marker\":{\"colorbar\":{\"outlinewidth\":0,\"ticks\":\"\"}}}],\"scattermapbox\":[{\"type\":\"scattermapbox\",\"marker\":{\"colorbar\":{\"outlinewidth\":0,\"ticks\":\"\"}}}],\"scatterternary\":[{\"type\":\"scatterternary\",\"marker\":{\"colorbar\":{\"outlinewidth\":0,\"ticks\":\"\"}}}],\"scattercarpet\":[{\"type\":\"scattercarpet\",\"marker\":{\"colorbar\":{\"outlinewidth\":0,\"ticks\":\"\"}}}],\"carpet\":[{\"aaxis\":{\"endlinecolor\":\"#2a3f5f\",\"gridcolor\":\"white\",\"linecolor\":\"white\",\"minorgridcolor\":\"white\",\"startlinecolor\":\"#2a3f5f\"},\"baxis\":{\"endlinecolor\":\"#2a3f5f\",\"gridcolor\":\"white\",\"linecolor\":\"white\",\"minorgridcolor\":\"white\",\"startlinecolor\":\"#2a3f5f\"},\"type\":\"carpet\"}],\"table\":[{\"cells\":{\"fill\":{\"color\":\"#EBF0F8\"},\"line\":{\"color\":\"white\"}},\"header\":{\"fill\":{\"color\":\"#C8D4E3\"},\"line\":{\"color\":\"white\"}},\"type\":\"table\"}],\"barpolar\":[{\"marker\":{\"line\":{\"color\":\"#E5ECF6\",\"width\":0.5},\"pattern\":{\"fillmode\":\"overlay\",\"size\":10,\"solidity\":0.2}},\"type\":\"barpolar\"}],\"pie\":[{\"automargin\":true,\"type\":\"pie\"}]},\"layout\":{\"autotypenumbers\":\"strict\",\"colorway\":[\"#636efa\",\"#EF553B\",\"#00cc96\",\"#ab63fa\",\"#FFA15A\",\"#19d3f3\",\"#FF6692\",\"#B6E880\",\"#FF97FF\",\"#FECB52\"],\"font\":{\"color\":\"#2a3f5f\"},\"hovermode\":\"closest\",\"hoverlabel\":{\"align\":\"left\"},\"paper_bgcolor\":\"white\",\"plot_bgcolor\":\"#E5ECF6\",\"polar\":{\"bgcolor\":\"#E5ECF6\",\"angularaxis\":{\"gridcolor\":\"white\",\"linecolor\":\"white\",\"ticks\":\"\"},\"radialaxis\":{\"gridcolor\":\"white\",\"linecolor\":\"white\",\"ticks\":\"\"}},\"ternary\":{\"bgcolor\":\"#E5ECF6\",\"aaxis\":{\"gridcolor\":\"white\",\"linecolor\":\"white\",\"ticks\":\"\"},\"baxis\":{\"gridcolor\":\"white\",\"linecolor\":\"white\",\"ticks\":\"\"},\"caxis\":{\"gridcolor\":\"white\",\"linecolor\":\"white\",\"ticks\":\"\"}},\"coloraxis\":{\"colorbar\":{\"outlinewidth\":0,\"ticks\":\"\"}},\"colorscale\":{\"sequential\":[[0.0,\"#0d0887\"],[0.1111111111111111,\"#46039f\"],[0.2222222222222222,\"#7201a8\"],[0.3333333333333333,\"#9c179e\"],[0.4444444444444444,\"#bd3786\"],[0.5555555555555556,\"#d8576b\"],[0.6666666666666666,\"#ed7953\"],[0.7777777777777778,\"#fb9f3a\"],[0.8888888888888888,\"#fdca26\"],[1.0,\"#f0f921\"]],\"sequentialminus\":[[0.0,\"#0d0887\"],[0.1111111111111111,\"#46039f\"],[0.2222222222222222,\"#7201a8\"],[0.3333333333333333,\"#9c179e\"],[0.4444444444444444,\"#bd3786\"],[0.5555555555555556,\"#d8576b\"],[0.6666666666666666,\"#ed7953\"],[0.7777777777777778,\"#fb9f3a\"],[0.8888888888888888,\"#fdca26\"],[1.0,\"#f0f921\"]],\"diverging\":[[0,\"#8e0152\"],[0.1,\"#c51b7d\"],[0.2,\"#de77ae\"],[0.3,\"#f1b6da\"],[0.4,\"#fde0ef\"],[0.5,\"#f7f7f7\"],[0.6,\"#e6f5d0\"],[0.7,\"#b8e186\"],[0.8,\"#7fbc41\"],[0.9,\"#4d9221\"],[1,\"#276419\"]]},\"xaxis\":{\"gridcolor\":\"white\",\"linecolor\":\"white\",\"ticks\":\"\",\"title\":{\"standoff\":15},\"zerolinecolor\":\"white\",\"automargin\":true,\"zerolinewidth\":2},\"yaxis\":{\"gridcolor\":\"white\",\"linecolor\":\"white\",\"ticks\":\"\",\"title\":{\"standoff\":15},\"zerolinecolor\":\"white\",\"automargin\":true,\"zerolinewidth\":2},\"scene\":{\"xaxis\":{\"backgroundcolor\":\"#E5ECF6\",\"gridcolor\":\"white\",\"linecolor\":\"white\",\"showbackground\":true,\"ticks\":\"\",\"zerolinecolor\":\"white\",\"gridwidth\":2},\"yaxis\":{\"backgroundcolor\":\"#E5ECF6\",\"gridcolor\":\"white\",\"linecolor\":\"white\",\"showbackground\":true,\"ticks\":\"\",\"zerolinecolor\":\"white\",\"gridwidth\":2},\"zaxis\":{\"backgroundcolor\":\"#E5ECF6\",\"gridcolor\":\"white\",\"linecolor\":\"white\",\"showbackground\":true,\"ticks\":\"\",\"zerolinecolor\":\"white\",\"gridwidth\":2}},\"shapedefaults\":{\"line\":{\"color\":\"#2a3f5f\"}},\"annotationdefaults\":{\"arrowcolor\":\"#2a3f5f\",\"arrowhead\":0,\"arrowwidth\":1},\"geo\":{\"bgcolor\":\"white\",\"landcolor\":\"#E5ECF6\",\"subunitcolor\":\"white\",\"showland\":true,\"showlakes\":true,\"lakecolor\":\"white\"},\"title\":{\"x\":0.05},\"mapbox\":{\"style\":\"light\"}}},\"xaxis\":{\"anchor\":\"y\",\"domain\":[0.0,1.0],\"title\":{\"text\":\"Month\"}},\"yaxis\":{\"anchor\":\"x\",\"domain\":[0.0,1.0],\"title\":{\"text\":\"Amount\"}},\"legend\":{\"tracegroupgap\":0},\"margin\":{\"t\":60},\"barmode\":\"relative\",\"font\":{\"family\":\"Helvetica\",\"size\":25},\"title\":{\"text\":\"Amount per month\"},\"plot_bgcolor\":\"white\"},                        {\"responsive\": true}                    ).then(function(){\n                            \nvar gd = document.getElementById('9b026fb8-deaa-4bc7-942f-6778daa43293');\nvar x = new MutationObserver(function (mutations, observer) {{\n        var display = window.getComputedStyle(gd).display;\n        if (!display || display === 'none') {{\n            console.log([gd, 'removed!']);\n            Plotly.purge(gd);\n            observer.disconnect();\n        }}\n}});\n\n// Listen for the removal of the full notebook cells\nvar notebookContainer = gd.closest('#notebook-container');\nif (notebookContainer) {{\n    x.observe(notebookContainer, {childList: true});\n}}\n\n// Listen for the clearing of the current output cell\nvar outputEl = gd.closest('.output');\nif (outputEl) {{\n    x.observe(outputEl, {childList: true});\n}}\n\n                        })                };                });            </script>        </div>"
     },
     "metadata": {},
     "output_type": "display_data"
    }
   ],
   "source": [
    "import plotly.express as px\n",
    "\n",
    "fig = px.bar(df_amount_per_month, x='month', y='amount_cleaned', labels={'month': 'Month', 'amount_cleaned': 'Amount'}, color_discrete_sequence=['green'])\n",
    "\n",
    "fig.update_layout(title='Amount per month', font_family='Helvetica', font_size=25, plot_bgcolor='white')"
   ],
   "metadata": {
    "collapsed": false,
    "ExecuteTime": {
     "end_time": "2024-02-15T11:17:36.263391100Z",
     "start_time": "2024-02-15T11:17:36.221810100Z"
    }
   },
   "id": "be0504fde9a0da97",
   "execution_count": 43
  },
  {
   "cell_type": "code",
   "outputs": [
    {
     "data": {
      "text/plain": "      month  amount_cleaned  cumulated_amount\n0   2020-01        -6295.82          -6295.82\n1   2020-02       -84841.77         -91137.59\n2   2020-03        11830.74         -79306.85\n3   2020-04        29911.16         -49395.69\n4   2020-05       145452.67          96056.98\n5   2020-06       -69814.13          26242.85\n6   2020-07       -22028.23           4214.62\n7   2020-08         7500.67          11715.29\n8   2020-09         6869.70          18584.99\n9   2020-10        20436.69          39021.68\n10  2020-11       -65233.44         -26211.76\n11  2020-12        62863.60          36651.84\n12  2021-01        56231.61          92883.45\n13  2021-02        14541.82         107425.27\n14  2021-03        60495.74         167921.01\n15  2021-04        43312.49         211233.50\n16  2021-05       -25037.10         186196.40\n17  2021-06       -68662.10         117534.30\n18  2021-07       -73743.19          43791.11\n19  2021-08       -86521.57         -42730.46\n20  2021-09        -3447.87         -46178.33\n21  2021-10       -23729.68         -69908.01\n22  2021-11         7971.66         -61936.35\n23  2021-12        91814.89          29878.54\n24  2022-01        34601.95          64480.49\n25  2022-02       -25707.02          38773.47\n26  2022-03        68499.45         107272.92\n27  2022-04         7728.22         115001.14\n28  2022-05        24652.24         139653.38\n29  2022-06       -46631.10          93022.28\n30  2022-07        63238.10         156260.38\n31  2022-08        55978.19         212238.57\n32  2022-09       -27084.10         185154.47\n33  2022-10       -61706.62         123447.85\n34  2022-11        35794.64         159242.49\n35  2022-12       -24983.50         134258.99\n36  2023-01        24580.16         158839.15\n37  2023-02        24893.43         183732.58\n38  2023-03        41356.70         225089.28\n39  2023-04       -25590.06         199499.22",
      "text/html": "<div>\n<style scoped>\n    .dataframe tbody tr th:only-of-type {\n        vertical-align: middle;\n    }\n\n    .dataframe tbody tr th {\n        vertical-align: top;\n    }\n\n    .dataframe thead th {\n        text-align: right;\n    }\n</style>\n<table border=\"1\" class=\"dataframe\">\n  <thead>\n    <tr style=\"text-align: right;\">\n      <th></th>\n      <th>month</th>\n      <th>amount_cleaned</th>\n      <th>cumulated_amount</th>\n    </tr>\n  </thead>\n  <tbody>\n    <tr>\n      <th>0</th>\n      <td>2020-01</td>\n      <td>-6295.82</td>\n      <td>-6295.82</td>\n    </tr>\n    <tr>\n      <th>1</th>\n      <td>2020-02</td>\n      <td>-84841.77</td>\n      <td>-91137.59</td>\n    </tr>\n    <tr>\n      <th>2</th>\n      <td>2020-03</td>\n      <td>11830.74</td>\n      <td>-79306.85</td>\n    </tr>\n    <tr>\n      <th>3</th>\n      <td>2020-04</td>\n      <td>29911.16</td>\n      <td>-49395.69</td>\n    </tr>\n    <tr>\n      <th>4</th>\n      <td>2020-05</td>\n      <td>145452.67</td>\n      <td>96056.98</td>\n    </tr>\n    <tr>\n      <th>5</th>\n      <td>2020-06</td>\n      <td>-69814.13</td>\n      <td>26242.85</td>\n    </tr>\n    <tr>\n      <th>6</th>\n      <td>2020-07</td>\n      <td>-22028.23</td>\n      <td>4214.62</td>\n    </tr>\n    <tr>\n      <th>7</th>\n      <td>2020-08</td>\n      <td>7500.67</td>\n      <td>11715.29</td>\n    </tr>\n    <tr>\n      <th>8</th>\n      <td>2020-09</td>\n      <td>6869.70</td>\n      <td>18584.99</td>\n    </tr>\n    <tr>\n      <th>9</th>\n      <td>2020-10</td>\n      <td>20436.69</td>\n      <td>39021.68</td>\n    </tr>\n    <tr>\n      <th>10</th>\n      <td>2020-11</td>\n      <td>-65233.44</td>\n      <td>-26211.76</td>\n    </tr>\n    <tr>\n      <th>11</th>\n      <td>2020-12</td>\n      <td>62863.60</td>\n      <td>36651.84</td>\n    </tr>\n    <tr>\n      <th>12</th>\n      <td>2021-01</td>\n      <td>56231.61</td>\n      <td>92883.45</td>\n    </tr>\n    <tr>\n      <th>13</th>\n      <td>2021-02</td>\n      <td>14541.82</td>\n      <td>107425.27</td>\n    </tr>\n    <tr>\n      <th>14</th>\n      <td>2021-03</td>\n      <td>60495.74</td>\n      <td>167921.01</td>\n    </tr>\n    <tr>\n      <th>15</th>\n      <td>2021-04</td>\n      <td>43312.49</td>\n      <td>211233.50</td>\n    </tr>\n    <tr>\n      <th>16</th>\n      <td>2021-05</td>\n      <td>-25037.10</td>\n      <td>186196.40</td>\n    </tr>\n    <tr>\n      <th>17</th>\n      <td>2021-06</td>\n      <td>-68662.10</td>\n      <td>117534.30</td>\n    </tr>\n    <tr>\n      <th>18</th>\n      <td>2021-07</td>\n      <td>-73743.19</td>\n      <td>43791.11</td>\n    </tr>\n    <tr>\n      <th>19</th>\n      <td>2021-08</td>\n      <td>-86521.57</td>\n      <td>-42730.46</td>\n    </tr>\n    <tr>\n      <th>20</th>\n      <td>2021-09</td>\n      <td>-3447.87</td>\n      <td>-46178.33</td>\n    </tr>\n    <tr>\n      <th>21</th>\n      <td>2021-10</td>\n      <td>-23729.68</td>\n      <td>-69908.01</td>\n    </tr>\n    <tr>\n      <th>22</th>\n      <td>2021-11</td>\n      <td>7971.66</td>\n      <td>-61936.35</td>\n    </tr>\n    <tr>\n      <th>23</th>\n      <td>2021-12</td>\n      <td>91814.89</td>\n      <td>29878.54</td>\n    </tr>\n    <tr>\n      <th>24</th>\n      <td>2022-01</td>\n      <td>34601.95</td>\n      <td>64480.49</td>\n    </tr>\n    <tr>\n      <th>25</th>\n      <td>2022-02</td>\n      <td>-25707.02</td>\n      <td>38773.47</td>\n    </tr>\n    <tr>\n      <th>26</th>\n      <td>2022-03</td>\n      <td>68499.45</td>\n      <td>107272.92</td>\n    </tr>\n    <tr>\n      <th>27</th>\n      <td>2022-04</td>\n      <td>7728.22</td>\n      <td>115001.14</td>\n    </tr>\n    <tr>\n      <th>28</th>\n      <td>2022-05</td>\n      <td>24652.24</td>\n      <td>139653.38</td>\n    </tr>\n    <tr>\n      <th>29</th>\n      <td>2022-06</td>\n      <td>-46631.10</td>\n      <td>93022.28</td>\n    </tr>\n    <tr>\n      <th>30</th>\n      <td>2022-07</td>\n      <td>63238.10</td>\n      <td>156260.38</td>\n    </tr>\n    <tr>\n      <th>31</th>\n      <td>2022-08</td>\n      <td>55978.19</td>\n      <td>212238.57</td>\n    </tr>\n    <tr>\n      <th>32</th>\n      <td>2022-09</td>\n      <td>-27084.10</td>\n      <td>185154.47</td>\n    </tr>\n    <tr>\n      <th>33</th>\n      <td>2022-10</td>\n      <td>-61706.62</td>\n      <td>123447.85</td>\n    </tr>\n    <tr>\n      <th>34</th>\n      <td>2022-11</td>\n      <td>35794.64</td>\n      <td>159242.49</td>\n    </tr>\n    <tr>\n      <th>35</th>\n      <td>2022-12</td>\n      <td>-24983.50</td>\n      <td>134258.99</td>\n    </tr>\n    <tr>\n      <th>36</th>\n      <td>2023-01</td>\n      <td>24580.16</td>\n      <td>158839.15</td>\n    </tr>\n    <tr>\n      <th>37</th>\n      <td>2023-02</td>\n      <td>24893.43</td>\n      <td>183732.58</td>\n    </tr>\n    <tr>\n      <th>38</th>\n      <td>2023-03</td>\n      <td>41356.70</td>\n      <td>225089.28</td>\n    </tr>\n    <tr>\n      <th>39</th>\n      <td>2023-04</td>\n      <td>-25590.06</td>\n      <td>199499.22</td>\n    </tr>\n  </tbody>\n</table>\n</div>"
     },
     "execution_count": 46,
     "metadata": {},
     "output_type": "execute_result"
    }
   ],
   "source": [
    "df_amount_per_month['cumulated_amount'] = df_amount_per_month['amount_cleaned'].cumsum()\n",
    "\n",
    "df_amount_per_month"
   ],
   "metadata": {
    "collapsed": false,
    "ExecuteTime": {
     "end_time": "2024-02-15T11:21:48.218443600Z",
     "start_time": "2024-02-15T11:21:48.203728900Z"
    }
   },
   "id": "db175339e6f258b2",
   "execution_count": 46
  },
  {
   "cell_type": "code",
   "outputs": [],
   "source": [
    "fig = px.area(df_amount_per_month, x='month', y='cumulated_amount', line_shape='spline', labels={ 'month': 'Month', 'cumulated_amount': 'Cumulative Amount' }, color_discrete_sequence=['#29D634'])\n",
    "\n",
    "fig.update_layout(plot_bgcolor='#bbe4bd')\n",
    "fig.update_xaxes(gridcolor='#bbe4bd')\n",
    "fig.update_yaxes(gridcolor='#bbe4bd')\n",
    "\n",
    "fig.write_html('cumulated_amount_per_month.html', auto_open=True)\n",
    "\n"
   ],
   "metadata": {
    "collapsed": false,
    "ExecuteTime": {
     "end_time": "2024-02-15T11:30:30.930435800Z",
     "start_time": "2024-02-15T11:30:30.667188500Z"
    }
   },
   "id": "6326c5402e79ef8e",
   "execution_count": 54
  },
  {
   "cell_type": "code",
   "outputs": [],
   "source": [],
   "metadata": {
    "collapsed": false
   },
   "id": "76dbfee3c94138c1"
  }
 ],
 "metadata": {
  "kernelspec": {
   "display_name": "Python 3",
   "language": "python",
   "name": "python3"
  },
  "language_info": {
   "codemirror_mode": {
    "name": "ipython",
    "version": 2
   },
   "file_extension": ".py",
   "mimetype": "text/x-python",
   "name": "python",
   "nbconvert_exporter": "python",
   "pygments_lexer": "ipython2",
   "version": "2.7.6"
  }
 },
 "nbformat": 4,
 "nbformat_minor": 5
}
